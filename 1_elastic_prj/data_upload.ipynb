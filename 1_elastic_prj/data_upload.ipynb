{
 "cells": [
  {
   "cell_type": "markdown",
   "metadata": {},
   "source": []
  },
  {
   "cell_type": "code",
   "execution_count": 2,
   "metadata": {},
   "outputs": [
    {
     "name": "stdout",
     "output_type": "stream",
     "text": [
      "Collecting elasticsearch\n",
      "  Obtaining dependency information for elasticsearch from https://files.pythonhosted.org/packages/bb/06/81b1d71ba0567ff39d0f98f3637e810846df92f6733aee46004a194b51ea/elasticsearch-8.9.0-py3-none-any.whl.metadata\n",
      "  Downloading elasticsearch-8.9.0-py3-none-any.whl.metadata (5.2 kB)\n",
      "Collecting elastic-transport<9,>=8 (from elasticsearch)\n",
      "  Using cached elastic_transport-8.4.0-py3-none-any.whl (59 kB)\n",
      "Collecting urllib3<2,>=1.26.2 (from elastic-transport<9,>=8->elasticsearch)\n",
      "  Obtaining dependency information for urllib3<2,>=1.26.2 from https://files.pythonhosted.org/packages/c5/05/c214b32d21c0b465506f95c4f28ccbcba15022e000b043b72b3df7728471/urllib3-1.26.16-py2.py3-none-any.whl.metadata\n",
      "  Downloading urllib3-1.26.16-py2.py3-none-any.whl.metadata (48 kB)\n",
      "\u001b[2K     \u001b[90m━━━━━━━━━━━━━━━━━━━━━━━━━━━━━━━━━━━━━━━\u001b[0m \u001b[32m48.4/48.4 kB\u001b[0m \u001b[31m246.0 kB/s\u001b[0m eta \u001b[36m0:00:00\u001b[0ma \u001b[36m0:00:01\u001b[0m\n",
      "\u001b[?25hCollecting certifi (from elastic-transport<9,>=8->elasticsearch)\n",
      "  Obtaining dependency information for certifi from https://files.pythonhosted.org/packages/4c/dd/2234eab22353ffc7d94e8d13177aaa050113286e93e7b40eae01fbf7c3d9/certifi-2023.7.22-py3-none-any.whl.metadata\n",
      "  Downloading certifi-2023.7.22-py3-none-any.whl.metadata (2.2 kB)\n",
      "Using cached elasticsearch-8.9.0-py3-none-any.whl (395 kB)\n",
      "Using cached urllib3-1.26.16-py2.py3-none-any.whl (143 kB)\n",
      "Using cached certifi-2023.7.22-py3-none-any.whl (158 kB)\n",
      "Installing collected packages: urllib3, certifi, elastic-transport, elasticsearch\n",
      "Successfully installed certifi-2023.7.22 elastic-transport-8.4.0 elasticsearch-8.9.0 urllib3-1.26.16\n"
     ]
    }
   ],
   "source": [
    "!pip install elasticsearch"
   ]
  },
  {
   "cell_type": "code",
   "execution_count": 26,
   "metadata": {},
   "outputs": [],
   "source": [
    "from elasticsearch import Elasticsearch\n",
    "\n",
    "# Elasticsearch 호스트 및 포트 설정\n",
    "ip = 'http://192.168.219.199:9200'\n",
    "es = Elasticsearch([ip])\n"
   ]
  },
  {
   "cell_type": "code",
   "execution_count": 37,
   "metadata": {},
   "outputs": [
    {
     "name": "stdout",
     "output_type": "stream",
     "text": [
      "{\"cluster_name\":\"my-application\",\"status\":\"yellow\",\"timed_out\":false,\"number_of_nodes\":1,\"number_of_data_nodes\":1,\"active_primary_shards\":5,\"active_shards\":5,\"relocating_shards\":0,\"initializing_shards\":0,\"unassigned_shards\":2,\"delayed_unassigned_shards\":0,\"number_of_pending_tasks\":0,\"number_of_in_flight_fetch\":0,\"task_max_waiting_in_queue_millis\":0,\"active_shards_percent_as_number\":71.42857142857143}"
     ]
    }
   ],
   "source": [
    "!curl -XGET 'http://192.168.219.199:9200/_cluster/health'"
   ]
  },
  {
   "cell_type": "code",
   "execution_count": 35,
   "metadata": {},
   "outputs": [
    {
     "name": "stdout",
     "output_type": "stream",
     "text": [
      "Name: elasticsearch\n",
      "Version: 8.9.0\n",
      "Summary: Python client for Elasticsearch\n",
      "Home-page: https://github.com/elastic/elasticsearch-py\n",
      "Author: Honza Král, Nick Lang\n",
      "Author-email: honza.kral@gmail.com, nick@nicklang.com\n",
      "License: Apache-2.0\n",
      "Location: /home/dahye/anaconda3/envs/workspace/lib/python3.8/site-packages\n",
      "Requires: elastic-transport\n",
      "Required-by: \n"
     ]
    }
   ],
   "source": [
    "!pip show 'elasticsearch'"
   ]
  },
  {
   "cell_type": "code",
   "execution_count": null,
   "metadata": {},
   "outputs": [],
   "source": [
    "def search(index, data=None):\n",
    "    if data is None:\n",
    "        data = {\"match_all\": {}}\n",
    "    else:\n",
    "        data = {\"match\": data}\n",
    "    body = {\"query\": data}\n",
    "    "
   ]
  },
  {
   "cell_type": "code",
   "execution_count": 27,
   "metadata": {},
   "outputs": [
    {
     "data": {
      "text/plain": [
       "False"
      ]
     },
     "execution_count": 27,
     "metadata": {},
     "output_type": "execute_result"
    }
   ],
   "source": [
    "response = es.ping()\n",
    "response"
   ]
  },
  {
   "cell_type": "code",
   "execution_count": 22,
   "metadata": {},
   "outputs": [
    {
     "ename": "ValueError",
     "evalue": "Couldn't merge 'body' with other parameters as it wasn't a mapping. Instead of using 'body' use individual API parameters",
     "output_type": "error",
     "traceback": [
      "\u001b[0;31m---------------------------------------------------------------------------\u001b[0m",
      "\u001b[0;31mValueError\u001b[0m                                Traceback (most recent call last)",
      "\u001b[1;32m/home/dahye/workspace/1_elastic_prj/data_upload.ipynb 셀 5\u001b[0m line \u001b[0;36m8\n\u001b[1;32m      <a href='vscode-notebook-cell://wsl%2Bubuntu/home/dahye/workspace/1_elastic_prj/data_upload.ipynb#X25sdnNjb2RlLXJlbW90ZQ%3D%3D?line=4'>5</a>\u001b[0m     \u001b[39mprint\u001b[39m(res)\n\u001b[1;32m      <a href='vscode-notebook-cell://wsl%2Bubuntu/home/dahye/workspace/1_elastic_prj/data_upload.ipynb#X25sdnNjb2RlLXJlbW90ZQ%3D%3D?line=5'>6</a>\u001b[0m     \u001b[39mreturn\u001b[39;00m\n\u001b[0;32m----> <a href='vscode-notebook-cell://wsl%2Bubuntu/home/dahye/workspace/1_elastic_prj/data_upload.ipynb#X25sdnNjb2RlLXJlbW90ZQ%3D%3D?line=7'>8</a>\u001b[0m searchAPI(\u001b[39m1\u001b[39;49m, \u001b[39m\"\u001b[39;49m\u001b[39ma\u001b[39;49m\u001b[39m\"\u001b[39;49m)\n",
      "\u001b[1;32m/home/dahye/workspace/1_elastic_prj/data_upload.ipynb 셀 5\u001b[0m line \u001b[0;36m4\n\u001b[1;32m      <a href='vscode-notebook-cell://wsl%2Bubuntu/home/dahye/workspace/1_elastic_prj/data_upload.ipynb#X25sdnNjb2RlLXJlbW90ZQ%3D%3D?line=0'>1</a>\u001b[0m \u001b[39mdef\u001b[39;00m \u001b[39msearchAPI\u001b[39m(index, body):\n\u001b[1;32m      <a href='vscode-notebook-cell://wsl%2Bubuntu/home/dahye/workspace/1_elastic_prj/data_upload.ipynb#X25sdnNjb2RlLXJlbW90ZQ%3D%3D?line=1'>2</a>\u001b[0m     es \u001b[39m=\u001b[39m Elasticsearch(\u001b[39m'\u001b[39m\u001b[39mhttp://192.168.219.199:9200\u001b[39m\u001b[39m'\u001b[39m)\n\u001b[0;32m----> <a href='vscode-notebook-cell://wsl%2Bubuntu/home/dahye/workspace/1_elastic_prj/data_upload.ipynb#X25sdnNjb2RlLXJlbW90ZQ%3D%3D?line=3'>4</a>\u001b[0m     res \u001b[39m=\u001b[39m es\u001b[39m.\u001b[39;49msearch(index\u001b[39m=\u001b[39;49mindex, body\u001b[39m=\u001b[39;49mbody)\n\u001b[1;32m      <a href='vscode-notebook-cell://wsl%2Bubuntu/home/dahye/workspace/1_elastic_prj/data_upload.ipynb#X25sdnNjb2RlLXJlbW90ZQ%3D%3D?line=4'>5</a>\u001b[0m     \u001b[39mprint\u001b[39m(res)\n\u001b[1;32m      <a href='vscode-notebook-cell://wsl%2Bubuntu/home/dahye/workspace/1_elastic_prj/data_upload.ipynb#X25sdnNjb2RlLXJlbW90ZQ%3D%3D?line=5'>6</a>\u001b[0m     \u001b[39mreturn\u001b[39;00m\n",
      "File \u001b[0;32m~/anaconda3/envs/workspace/lib/python3.8/site-packages/elasticsearch/_sync/client/utils.py:395\u001b[0m, in \u001b[0;36m_rewrite_parameters.<locals>.wrapper.<locals>.wrapped\u001b[0;34m(*args, **kwargs)\u001b[0m\n\u001b[1;32m    393\u001b[0m \u001b[39melif\u001b[39;00m body_fields:\n\u001b[1;32m    394\u001b[0m     \u001b[39mif\u001b[39;00m \u001b[39mnot\u001b[39;00m \u001b[39mhasattr\u001b[39m(body, \u001b[39m\"\u001b[39m\u001b[39mitems\u001b[39m\u001b[39m\"\u001b[39m):\n\u001b[0;32m--> 395\u001b[0m         \u001b[39mraise\u001b[39;00m \u001b[39mValueError\u001b[39;00m(\n\u001b[1;32m    396\u001b[0m             \u001b[39m\"\u001b[39m\u001b[39mCouldn\u001b[39m\u001b[39m'\u001b[39m\u001b[39mt merge \u001b[39m\u001b[39m'\u001b[39m\u001b[39mbody\u001b[39m\u001b[39m'\u001b[39m\u001b[39m with other parameters as it wasn\u001b[39m\u001b[39m'\u001b[39m\u001b[39mt a mapping. \u001b[39m\u001b[39m\"\u001b[39m\n\u001b[1;32m    397\u001b[0m             \u001b[39m\"\u001b[39m\u001b[39mInstead of using \u001b[39m\u001b[39m'\u001b[39m\u001b[39mbody\u001b[39m\u001b[39m'\u001b[39m\u001b[39m use individual API parameters\u001b[39m\u001b[39m\"\u001b[39m\n\u001b[1;32m    398\u001b[0m         )\n\u001b[1;32m    399\u001b[0m     warnings\u001b[39m.\u001b[39mwarn(\n\u001b[1;32m    400\u001b[0m         \u001b[39m\"\u001b[39m\u001b[39mThe \u001b[39m\u001b[39m'\u001b[39m\u001b[39mbody\u001b[39m\u001b[39m'\u001b[39m\u001b[39m parameter is deprecated and will be removed \u001b[39m\u001b[39m\"\u001b[39m\n\u001b[1;32m    401\u001b[0m         \u001b[39m\"\u001b[39m\u001b[39min a future version. Instead use individual parameters.\u001b[39m\u001b[39m\"\u001b[39m,\n\u001b[1;32m    402\u001b[0m         category\u001b[39m=\u001b[39m\u001b[39mDeprecationWarning\u001b[39;00m,\n\u001b[1;32m    403\u001b[0m         stacklevel\u001b[39m=\u001b[39mwarn_stacklevel(),\n\u001b[1;32m    404\u001b[0m     )\n\u001b[1;32m    405\u001b[0m     _merge_kwargs_no_duplicates(kwargs, body)\n",
      "\u001b[0;31mValueError\u001b[0m: Couldn't merge 'body' with other parameters as it wasn't a mapping. Instead of using 'body' use individual API parameters"
     ]
    }
   ],
   "source": [
    "def searchAPI(index, body):\n",
    "    es = Elasticsearch('http://192.168.219.199:9200')\n",
    "\n",
    "    res = es.search(index=index, body=body)\n",
    "    print(res)\n",
    "    return\n",
    "\n",
    "searchAPI(1, \"a\")"
   ]
  },
  {
   "cell_type": "code",
   "execution_count": 13,
   "metadata": {},
   "outputs": [
    {
     "ename": "SystemExit",
     "evalue": "Connection failed",
     "output_type": "error",
     "traceback": [
      "An exception has occurred, use %tb to see the full traceback.\n",
      "\u001b[0;31mSystemExit\u001b[0m\u001b[0;31m:\u001b[0m Connection failed\n"
     ]
    },
    {
     "name": "stderr",
     "output_type": "stream",
     "text": [
      "/home/dahye/anaconda3/envs/workspace/lib/python3.8/site-packages/IPython/core/interactiveshell.py:3513: UserWarning: To exit: use 'exit', 'quit', or Ctrl-D.\n",
      "  warn(\"To exit: use 'exit', 'quit', or Ctrl-D.\", stacklevel=1)\n"
     ]
    }
   ],
   "source": [
    "# 연결 테스트----------------------------------------\n",
    "import sys\n",
    "response = es.ping()\n",
    "#ping(): Elasticsearch 클라이언트를 사용하여 Elasticsearch 서버의 핑을 검사\n",
    "if response:\n",
    "    print('Connection successful')\n",
    "else:\n",
    "    sys.exit(\"Connection failed\")   \n",
    "    \n",
    "#------------------------------------------------\n"
   ]
  },
  {
   "cell_type": "code",
   "execution_count": 1,
   "metadata": {},
   "outputs": [
    {
     "data": {
      "text/html": [
       "<div>\n",
       "<style scoped>\n",
       "    .dataframe tbody tr th:only-of-type {\n",
       "        vertical-align: middle;\n",
       "    }\n",
       "\n",
       "    .dataframe tbody tr th {\n",
       "        vertical-align: top;\n",
       "    }\n",
       "\n",
       "    .dataframe thead th {\n",
       "        text-align: right;\n",
       "    }\n",
       "</style>\n",
       "<table border=\"1\" class=\"dataframe\">\n",
       "  <thead>\n",
       "    <tr style=\"text-align: right;\">\n",
       "      <th></th>\n",
       "      <th>TITLE</th>\n",
       "      <th>SOURCE_TYPE</th>\n",
       "      <th>LINK</th>\n",
       "      <th>REG_DATE</th>\n",
       "      <th>CONTENT</th>\n",
       "      <th>entities</th>\n",
       "    </tr>\n",
       "  </thead>\n",
       "  <tbody>\n",
       "    <tr>\n",
       "      <th>0</th>\n",
       "      <td>완전 분해 ‘친환경 플라스틱’ 가능할까</td>\n",
       "      <td>WEB</td>\n",
       "      <td>http://news.donga.com/List/3/08/20181230/93495...</td>\n",
       "      <td>2019-01-01</td>\n",
       "      <td>국내 연구팀, 미생물 활용 플라스틱 분해 성과 잇따라 \\n육지를 넘어 바다까지 진출...</td>\n",
       "      <td>[{'mentions': [{'text': {'content': '이상엽', 'be...</td>\n",
       "    </tr>\n",
       "    <tr>\n",
       "      <th>1</th>\n",
       "      <td>Samsung Galaxy S10: Neuer Hinweis auf 3D-Scann...</td>\n",
       "      <td>WEB</td>\n",
       "      <td>https://vrodo.de/samsung-galaxy-s10-neuer-hinw...</td>\n",
       "      <td>2019-01-01</td>\n",
       "      <td>30. Dezember 2018von Matthias Bastian\\n | @mab...</td>\n",
       "      <td>[{'mentions': [{'text': {'content': 'maba_pr',...</td>\n",
       "    </tr>\n",
       "    <tr>\n",
       "      <th>2</th>\n",
       "      <td>The 2019 forecast for cloud computing: Up the ...</td>\n",
       "      <td>WEB</td>\n",
       "      <td>https://siliconangle.com/2018/12/30/2019-forec...</td>\n",
       "      <td>2019-01-01</td>\n",
       "      <td>The year just concluded may end up being remem...</td>\n",
       "      <td>[{'mentions': [{'text': {'content': 'companies...</td>\n",
       "    </tr>\n",
       "    <tr>\n",
       "      <th>3</th>\n",
       "      <td>자율주행차 유럽 특허 출원 6년새 4배로…삼성이 특허 1위</td>\n",
       "      <td>WEB</td>\n",
       "      <td>https://www.yna.co.kr/view/AKR20181228156400003</td>\n",
       "      <td>2019-01-01</td>\n",
       "      <td>LG전자 4위…車 관련 업체보다 전자·ICT 기업 주도\\n (서울=연합뉴스) 윤보람...</td>\n",
       "      <td>[{'mentions': [{'text': {'content': '유럽특허청', '...</td>\n",
       "    </tr>\n",
       "    <tr>\n",
       "      <th>4</th>\n",
       "      <td>KI-Sprachverständnis: Neue Methode erzielt gro...</td>\n",
       "      <td>WEB</td>\n",
       "      <td>https://vrodo.de/ki-sprachverstaendnis-neue-me...</td>\n",
       "      <td>2019-01-01</td>\n",
       "      <td>16. September 2018von Maximilian Schreiner\\n |...</td>\n",
       "      <td>[{'mentions': [{'text': {'content': 'Sprache',...</td>\n",
       "    </tr>\n",
       "    <tr>\n",
       "      <th>...</th>\n",
       "      <td>...</td>\n",
       "      <td>...</td>\n",
       "      <td>...</td>\n",
       "      <td>...</td>\n",
       "      <td>...</td>\n",
       "      <td>...</td>\n",
       "    </tr>\n",
       "    <tr>\n",
       "      <th>9970</th>\n",
       "      <td>Downhole High Power Laser Scanner Tool and Met...</td>\n",
       "      <td>SIPMS</td>\n",
       "      <td>http://patentsearch.sec.samsung.net/View+.aspx...</td>\n",
       "      <td>2019-02-10</td>\n",
       "      <td>A method to control the shape of an opening in...</td>\n",
       "      <td>[{'mentions': [{'text': {'content': 'method', ...</td>\n",
       "    </tr>\n",
       "    <tr>\n",
       "      <th>9971</th>\n",
       "      <td>OPTICAL WAVEGUIDE</td>\n",
       "      <td>SIPMS</td>\n",
       "      <td>http://patentsearch.sec.samsung.net/View+.aspx...</td>\n",
       "      <td>2019-02-10</td>\n",
       "      <td>The present disclosure provides an optical wav...</td>\n",
       "      <td>[{'mentions': [{'text': {'content': 'disclosur...</td>\n",
       "    </tr>\n",
       "    <tr>\n",
       "      <th>9972</th>\n",
       "      <td>SYSTEMS, METHODS, AND APPARATUSES FOR IN FLIGH...</td>\n",
       "      <td>SIPMS</td>\n",
       "      <td>http://patentsearch.sec.samsung.net/View+.aspx...</td>\n",
       "      <td>2019-02-10</td>\n",
       "      <td>Systems, methods, and apparatuses described he...</td>\n",
       "      <td>[{'mentions': [{'text': {'content': 'Systems',...</td>\n",
       "    </tr>\n",
       "    <tr>\n",
       "      <th>9973</th>\n",
       "      <td>BIREFRINGENT INTRAOCULAR LENS</td>\n",
       "      <td>SIPMS</td>\n",
       "      <td>http://patentsearch.sec.samsung.net/View+.aspx...</td>\n",
       "      <td>2019-02-10</td>\n",
       "      <td>A multifocal intraocular lens (MF-IOL) include...</td>\n",
       "      <td>[{'mentions': [{'text': {'content': 'lens', 'b...</td>\n",
       "    </tr>\n",
       "    <tr>\n",
       "      <th>9974</th>\n",
       "      <td>GRAPHENE WETSUIT</td>\n",
       "      <td>SIPMS</td>\n",
       "      <td>http://patentsearch.sec.samsung.net/View+.aspx...</td>\n",
       "      <td>2019-02-10</td>\n",
       "      <td>A wetsuit material that implements graphene ma...</td>\n",
       "      <td>[{'mentions': [{'text': {'content': 'wetsuit m...</td>\n",
       "    </tr>\n",
       "  </tbody>\n",
       "</table>\n",
       "<p>9975 rows × 6 columns</p>\n",
       "</div>"
      ],
      "text/plain": [
       "                                                  TITLE SOURCE_TYPE  \\\n",
       "0                                 완전 분해 ‘친환경 플라스틱’ 가능할까         WEB   \n",
       "1     Samsung Galaxy S10: Neuer Hinweis auf 3D-Scann...         WEB   \n",
       "2     The 2019 forecast for cloud computing: Up the ...         WEB   \n",
       "3                      자율주행차 유럽 특허 출원 6년새 4배로…삼성이 특허 1위         WEB   \n",
       "4     KI-Sprachverständnis: Neue Methode erzielt gro...         WEB   \n",
       "...                                                 ...         ...   \n",
       "9970  Downhole High Power Laser Scanner Tool and Met...       SIPMS   \n",
       "9971                                  OPTICAL WAVEGUIDE       SIPMS   \n",
       "9972  SYSTEMS, METHODS, AND APPARATUSES FOR IN FLIGH...       SIPMS   \n",
       "9973                      BIREFRINGENT INTRAOCULAR LENS       SIPMS   \n",
       "9974                                   GRAPHENE WETSUIT       SIPMS   \n",
       "\n",
       "                                                   LINK    REG_DATE  \\\n",
       "0     http://news.donga.com/List/3/08/20181230/93495...  2019-01-01   \n",
       "1     https://vrodo.de/samsung-galaxy-s10-neuer-hinw...  2019-01-01   \n",
       "2     https://siliconangle.com/2018/12/30/2019-forec...  2019-01-01   \n",
       "3       https://www.yna.co.kr/view/AKR20181228156400003  2019-01-01   \n",
       "4     https://vrodo.de/ki-sprachverstaendnis-neue-me...  2019-01-01   \n",
       "...                                                 ...         ...   \n",
       "9970  http://patentsearch.sec.samsung.net/View+.aspx...  2019-02-10   \n",
       "9971  http://patentsearch.sec.samsung.net/View+.aspx...  2019-02-10   \n",
       "9972  http://patentsearch.sec.samsung.net/View+.aspx...  2019-02-10   \n",
       "9973  http://patentsearch.sec.samsung.net/View+.aspx...  2019-02-10   \n",
       "9974  http://patentsearch.sec.samsung.net/View+.aspx...  2019-02-10   \n",
       "\n",
       "                                                CONTENT  \\\n",
       "0     국내 연구팀, 미생물 활용 플라스틱 분해 성과 잇따라 \\n육지를 넘어 바다까지 진출...   \n",
       "1     30. Dezember 2018von Matthias Bastian\\n | @mab...   \n",
       "2     The year just concluded may end up being remem...   \n",
       "3     LG전자 4위…車 관련 업체보다 전자·ICT 기업 주도\\n (서울=연합뉴스) 윤보람...   \n",
       "4     16. September 2018von Maximilian Schreiner\\n |...   \n",
       "...                                                 ...   \n",
       "9970  A method to control the shape of an opening in...   \n",
       "9971  The present disclosure provides an optical wav...   \n",
       "9972  Systems, methods, and apparatuses described he...   \n",
       "9973  A multifocal intraocular lens (MF-IOL) include...   \n",
       "9974  A wetsuit material that implements graphene ma...   \n",
       "\n",
       "                                               entities  \n",
       "0     [{'mentions': [{'text': {'content': '이상엽', 'be...  \n",
       "1     [{'mentions': [{'text': {'content': 'maba_pr',...  \n",
       "2     [{'mentions': [{'text': {'content': 'companies...  \n",
       "3     [{'mentions': [{'text': {'content': '유럽특허청', '...  \n",
       "4     [{'mentions': [{'text': {'content': 'Sprache',...  \n",
       "...                                                 ...  \n",
       "9970  [{'mentions': [{'text': {'content': 'method', ...  \n",
       "9971  [{'mentions': [{'text': {'content': 'disclosur...  \n",
       "9972  [{'mentions': [{'text': {'content': 'Systems',...  \n",
       "9973  [{'mentions': [{'text': {'content': 'lens', 'b...  \n",
       "9974  [{'mentions': [{'text': {'content': 'wetsuit m...  \n",
       "\n",
       "[9975 rows x 6 columns]"
      ]
     },
     "execution_count": 1,
     "metadata": {},
     "output_type": "execute_result"
    }
   ],
   "source": [
    "import json \n",
    "with open('dummy_data.json', 'r', encoding='utf-8') as f:\n",
    "    data = json.load(f)\n",
    "\n",
    "import pandas as pd\n",
    "\n",
    "df = pd.DataFrame(data['dataList'])\n",
    "# print(df.head())\n",
    "df"
   ]
  },
  {
   "cell_type": "code",
   "execution_count": 3,
   "metadata": {},
   "outputs": [
    {
     "ename": "SystemExit",
     "evalue": "Connection failed",
     "output_type": "error",
     "traceback": [
      "An exception has occurred, use %tb to see the full traceback.\n",
      "\u001b[0;31mSystemExit\u001b[0m\u001b[0;31m:\u001b[0m Connection failed\n"
     ]
    },
    {
     "name": "stderr",
     "output_type": "stream",
     "text": [
      "/home/dahye/anaconda3/envs/workspace/lib/python3.8/site-packages/IPython/core/interactiveshell.py:3513: UserWarning: To exit: use 'exit', 'quit', or Ctrl-D.\n",
      "  warn(\"To exit: use 'exit', 'quit', or Ctrl-D.\", stacklevel=1)\n"
     ]
    }
   ],
   "source": [
    "def insertData(json_data):\n",
    "    import json\n",
    "    import sys\n",
    "    from elasticsearch import Elasticsearch\n",
    "\n",
    "    # Elasticsearch 호스트 및 포트 설정\n",
    "    ip = 'http://192.168.219.199:9200'\n",
    "    es = Elasticsearch([ip])\n",
    "    \n",
    "\n",
    "    # 연결 테스트----------------------------------------\n",
    "    response = es.ping()\n",
    "    #ping(): Elasticsearch 클라이언트를 사용하여 Elasticsearch 서버의 핑을 검사\n",
    "    if response:\n",
    "        print('Connection successful')\n",
    "    else:\n",
    "        sys.exit(\"Connection failed\")  \n",
    "    \n",
    "    index=\"dummy_data\"\n",
    "    \n",
    "    with open('mapping.json', 'r') as f:\n",
    "        mapping = json.load(f)\n",
    "        \n",
    "    es.indices.create(index=index, body=mapping)\n",
    "    print(f\">>> create index : {index}\")\n",
    "    print(\">>> begin\")\n",
    "    \n",
    "    from datetime import datetime\n",
    "    seq = 0\n",
    "    for obj in json_data:\n",
    "        obj[\"@timestamp\"] = datetime.now().strftime('%Y-%m-%dT%H:%M:%S')\n",
    "        obj['@version'] = '1'\n",
    "\n",
    "        # 파이썬 객체(dic)을 json 문자열로 반환\n",
    "        doc = json.dumps(obj, ensure_ascii=False)\n",
    "        result = es.index(index=index, doc_type=\"_doc\", body=doc)\n",
    "        print(f'doc : {doc}')\n",
    "        print(f'{seq} : {json.dump(result)}')\n",
    "        seq += 1\n",
    "    print(f\">>> end : {seq}개 완료\")\n",
    "\n",
    "insertData(data['dataList'])"
   ]
  },
  {
   "cell_type": "code",
   "execution_count": null,
   "metadata": {},
   "outputs": [],
   "source": [
    "es.indices.create(index=idx_name, body=mapping)\n",
    "\n",
    "print(\">>> begin\")\n"
   ]
  },
  {
   "cell_type": "code",
   "execution_count": null,
   "metadata": {},
   "outputs": [],
   "source": [
    "#2. 데이터 나눠서 적재\n",
    "from elasticsearch import helpers\n",
    "\n",
    "#데이터 chunk로 나누기 (객체 100개씩 나눔)\n",
    "def chunk_data(row_data, chunk_size): #row_data는 list\n",
    "    for i in range(0, len(row_data), chunk_size):\n",
    "        yield row_data[i:i + chunk_size]\n",
    "        #yield: row_data의 일부분(청크)이 슬라이싱되어 yield를 통해 제너레이터 객체(이터레이터 사용 가능)로 반환 \n",
    "        #-> 다시 호출될 때 마지막 상태부터 실행을 계속함\n",
    "\n",
    "def index_data(index_name, data):\n",
    "    actions = [\n",
    "        {\n",
    "            \"_index\": index_name, #_index키: 인덱스 이름\n",
    "            #\"_source\": doc,\n",
    "            \"_source\": {\"dataList\": doc}, #_source키: 데이터\n",
    "        }\n",
    "        for doc in data #chunk(list)의 dict 객체 개수 만큼 위의 dict객체 생성\n",
    "    ]\n",
    "    helpers.bulk(es, actions) #actions 리스트 적재\n",
    "    #helpers.bulk(): Elasticsearch 클라이언트의 helpers 모듈에 있는 함수.\n",
    "    #여러 개의 문서를 한 번에 Elasticsearch에 삽입\n",
    "\n",
    "# 데이터 청크로 나누고 색인\n",
    "chunk_size = 100\n",
    "for chunk in chunk_data(row_data[\"dataList\"], chunk_size):\n",
    "    index_data(\"dummy_data_json\", chunk)\n",
    "\n",
    "#개수 확인 -----------------------------------------------------\n",
    "#res = es.count(index='dummy_data_json')\n",
    "#print(f\"Indexed {res['count']} documents\")\n",
    "#Indexed 9000 documents"
   ]
  },
  {
   "cell_type": "code",
   "execution_count": null,
   "metadata": {},
   "outputs": [],
   "source": [
    "import json\n",
    "\n",
    "json_file_path = 'dummy_data.json'\n",
    "\n",
    "with open(json_file_path, 'r') as json_file:\n",
    "    data = json.load(json_file)\n",
    "\n",
    "# Elasticsearch에 데이터 색인화\n",
    "index_name = 'dummy_data_test'\n",
    "doc_type = '_doc' # Elastic 문서 유형\n",
    "doc_id = None\n",
    "\n",
    "response = es.index(index=index_name, body=data)"
   ]
  },
  {
   "cell_type": "markdown",
   "metadata": {},
   "source": [
    "### curl 을 이용한 데이터 삽입"
   ]
  },
  {
   "cell_type": "code",
   "execution_count": 8,
   "metadata": {},
   "outputs": [
    {
     "name": "stdout",
     "output_type": "stream",
     "text": [
      "curl: option -d: requires parameter\n",
      "curl: try 'curl --help' or 'curl --manual' for more information\n"
     ]
    }
   ],
   "source": [
    "!curl -XPUT -H 'Content-Type: application/json' http://192.168.219.199:9200/classes/class/1/?pretty -d "
   ]
  },
  {
   "cell_type": "code",
   "execution_count": 10,
   "metadata": {},
   "outputs": [
    {
     "name": "stdout",
     "output_type": "stream",
     "text": [
      "{\n",
      "  \"acknowledged\" : true,\n",
      "  \"shards_acknowledged\" : true,\n",
      "  \"index\" : \"classes\"\n",
      "}\n"
     ]
    }
   ],
   "source": [
    "!curl -XPUT  http://192.168.219.199:9200/classes?pretty"
   ]
  },
  {
   "cell_type": "code",
   "execution_count": 25,
   "metadata": {},
   "outputs": [
    {
     "name": "stdout",
     "output_type": "stream",
     "text": [
      "{\n",
      "  \"classes\" : {\n",
      "    \"aliases\" : { },\n",
      "    \"mappings\" : { },\n",
      "    \"settings\" : {\n",
      "      \"index\" : {\n",
      "        \"creation_date\" : \"1694582180937\",\n",
      "        \"number_of_shards\" : \"1\",\n",
      "        \"number_of_replicas\" : \"1\",\n",
      "        \"uuid\" : \"D4ial2hzRpmK2JGWxE2gHQ\",\n",
      "        \"version\" : {\n",
      "          \"created\" : \"7050299\"\n",
      "        },\n",
      "        \"provided_name\" : \"classes\"\n",
      "      }\n",
      "    }\n",
      "  }\n",
      "}\n"
     ]
    }
   ],
   "source": [
    "!curl -XGET  http://192.168.219.199:9200/classes?pretty"
   ]
  },
  {
   "cell_type": "code",
   "execution_count": 19,
   "metadata": {},
   "outputs": [
    {
     "name": "stdout",
     "output_type": "stream",
     "text": [
      "{\n",
      "  \"acknowledged\" : true\n",
      "}\n"
     ]
    }
   ],
   "source": [
    "!curl -XDELETE http://192.168.219.199:9200/classes?pretty"
   ]
  },
  {
   "cell_type": "code",
   "execution_count": 8,
   "metadata": {},
   "outputs": [],
   "source": [
    "es = Elasticsearch(\n",
    "    [\n",
    "        {\n",
    "            'host':'192.168.219.199',\n",
    "            'port':9200,\n",
    "            'scheme': \"http\"\n",
    "        }\n",
    "    ], \n",
    "    request_timeout=300, #5min\n",
    "    verify_certs=False\n",
    "    #verify_certs: SSL 인증서를 검증할지 여부를 지정합니다. 여기서는 False로 설정되어 있어, 인증서 검증이 비활성화되어 있습니다. \n",
    "    #이러한 설정은 개발 또는 테스트 환경에서만 사용되어야 하며, 실제 운영 환경에서는 보안 위험으로 인해 사용되어서는 안 됩니다.\n",
    ")"
   ]
  },
  {
   "cell_type": "code",
   "execution_count": 25,
   "metadata": {},
   "outputs": [
    {
     "ename": "KeyboardInterrupt",
     "evalue": "",
     "output_type": "error",
     "traceback": [
      "\u001b[0;31m---------------------------------------------------------------------------\u001b[0m",
      "\u001b[0;31mKeyboardInterrupt\u001b[0m                         Traceback (most recent call last)",
      "\u001b[1;32m/home/dahye/workspace/1_elastic_prj/data_upload.ipynb 셀 11\u001b[0m line \u001b[0;36m4\n\u001b[1;32m      <a href='vscode-notebook-cell://wsl%2Bubuntu/home/dahye/workspace/1_elastic_prj/data_upload.ipynb#W4sdnNjb2RlLXJlbW90ZQ%3D%3D?line=0'>1</a>\u001b[0m \u001b[39mimport\u001b[39;00m \u001b[39msys\u001b[39;00m \n\u001b[1;32m      <a href='vscode-notebook-cell://wsl%2Bubuntu/home/dahye/workspace/1_elastic_prj/data_upload.ipynb#W4sdnNjb2RlLXJlbW90ZQ%3D%3D?line=2'>3</a>\u001b[0m \u001b[39m# 연결 테스트----------------------------------------\u001b[39;00m\n\u001b[0;32m----> <a href='vscode-notebook-cell://wsl%2Bubuntu/home/dahye/workspace/1_elastic_prj/data_upload.ipynb#W4sdnNjb2RlLXJlbW90ZQ%3D%3D?line=3'>4</a>\u001b[0m response \u001b[39m=\u001b[39m es\u001b[39m.\u001b[39;49mping()\n\u001b[1;32m      <a href='vscode-notebook-cell://wsl%2Bubuntu/home/dahye/workspace/1_elastic_prj/data_upload.ipynb#W4sdnNjb2RlLXJlbW90ZQ%3D%3D?line=4'>5</a>\u001b[0m \u001b[39m#ping(): Elasticsearch 클라이언트를 사용하여 Elasticsearch 서버의 핑을 검사\u001b[39;00m\n\u001b[1;32m      <a href='vscode-notebook-cell://wsl%2Bubuntu/home/dahye/workspace/1_elastic_prj/data_upload.ipynb#W4sdnNjb2RlLXJlbW90ZQ%3D%3D?line=5'>6</a>\u001b[0m \u001b[39mif\u001b[39;00m response:\n",
      "File \u001b[0;32m~/anaconda3/envs/workspace/lib/python3.8/site-packages/elasticsearch/_sync/client/utils.py:414\u001b[0m, in \u001b[0;36m_rewrite_parameters.<locals>.wrapper.<locals>.wrapped\u001b[0;34m(*args, **kwargs)\u001b[0m\n\u001b[1;32m    411\u001b[0m         \u001b[39mexcept\u001b[39;00m \u001b[39mKeyError\u001b[39;00m:\n\u001b[1;32m    412\u001b[0m             \u001b[39mpass\u001b[39;00m\n\u001b[0;32m--> 414\u001b[0m \u001b[39mreturn\u001b[39;00m api(\u001b[39m*\u001b[39;49margs, \u001b[39m*\u001b[39;49m\u001b[39m*\u001b[39;49mkwargs)\n",
      "File \u001b[0;32m~/anaconda3/envs/workspace/lib/python3.8/site-packages/elasticsearch/_sync/client/__init__.py:591\u001b[0m, in \u001b[0;36mElasticsearch.ping\u001b[0;34m(self, error_trace, filter_path, human, pretty)\u001b[0m\n\u001b[1;32m    589\u001b[0m __headers \u001b[39m=\u001b[39m {\u001b[39m\"\u001b[39m\u001b[39maccept\u001b[39m\u001b[39m\"\u001b[39m: \u001b[39m\"\u001b[39m\u001b[39mapplication/json\u001b[39m\u001b[39m\"\u001b[39m}\n\u001b[1;32m    590\u001b[0m \u001b[39mtry\u001b[39;00m:\n\u001b[0;32m--> 591\u001b[0m     \u001b[39mself\u001b[39;49m\u001b[39m.\u001b[39;49mperform_request(\u001b[39m\"\u001b[39;49m\u001b[39mHEAD\u001b[39;49m\u001b[39m\"\u001b[39;49m, __path, params\u001b[39m=\u001b[39;49m__query, headers\u001b[39m=\u001b[39;49m__headers)\n\u001b[1;32m    592\u001b[0m     \u001b[39mreturn\u001b[39;00m \u001b[39mTrue\u001b[39;00m\n\u001b[1;32m    593\u001b[0m \u001b[39mexcept\u001b[39;00m (ApiError, TransportError):\n",
      "File \u001b[0;32m~/anaconda3/envs/workspace/lib/python3.8/site-packages/elasticsearch/_sync/client/_base.py:285\u001b[0m, in \u001b[0;36mBaseClient.perform_request\u001b[0;34m(self, method, path, params, headers, body)\u001b[0m\n\u001b[1;32m    282\u001b[0m \u001b[39melse\u001b[39;00m:\n\u001b[1;32m    283\u001b[0m     target \u001b[39m=\u001b[39m path\n\u001b[0;32m--> 285\u001b[0m meta, resp_body \u001b[39m=\u001b[39m \u001b[39mself\u001b[39;49m\u001b[39m.\u001b[39;49mtransport\u001b[39m.\u001b[39;49mperform_request(\n\u001b[1;32m    286\u001b[0m     method,\n\u001b[1;32m    287\u001b[0m     target,\n\u001b[1;32m    288\u001b[0m     headers\u001b[39m=\u001b[39;49mrequest_headers,\n\u001b[1;32m    289\u001b[0m     body\u001b[39m=\u001b[39;49mbody,\n\u001b[1;32m    290\u001b[0m     request_timeout\u001b[39m=\u001b[39;49m\u001b[39mself\u001b[39;49m\u001b[39m.\u001b[39;49m_request_timeout,\n\u001b[1;32m    291\u001b[0m     max_retries\u001b[39m=\u001b[39;49m\u001b[39mself\u001b[39;49m\u001b[39m.\u001b[39;49m_max_retries,\n\u001b[1;32m    292\u001b[0m     retry_on_status\u001b[39m=\u001b[39;49m\u001b[39mself\u001b[39;49m\u001b[39m.\u001b[39;49m_retry_on_status,\n\u001b[1;32m    293\u001b[0m     retry_on_timeout\u001b[39m=\u001b[39;49m\u001b[39mself\u001b[39;49m\u001b[39m.\u001b[39;49m_retry_on_timeout,\n\u001b[1;32m    294\u001b[0m     client_meta\u001b[39m=\u001b[39;49m\u001b[39mself\u001b[39;49m\u001b[39m.\u001b[39;49m_client_meta,\n\u001b[1;32m    295\u001b[0m )\n\u001b[1;32m    297\u001b[0m \u001b[39m# HEAD with a 404 is returned as a normal response\u001b[39;00m\n\u001b[1;32m    298\u001b[0m \u001b[39m# since this is used as an 'exists' functionality.\u001b[39;00m\n\u001b[1;32m    299\u001b[0m \u001b[39mif\u001b[39;00m \u001b[39mnot\u001b[39;00m (method \u001b[39m==\u001b[39m \u001b[39m\"\u001b[39m\u001b[39mHEAD\u001b[39m\u001b[39m\"\u001b[39m \u001b[39mand\u001b[39;00m meta\u001b[39m.\u001b[39mstatus \u001b[39m==\u001b[39m \u001b[39m404\u001b[39m) \u001b[39mand\u001b[39;00m (\n\u001b[1;32m    300\u001b[0m     \u001b[39mnot\u001b[39;00m \u001b[39m200\u001b[39m \u001b[39m<\u001b[39m\u001b[39m=\u001b[39m meta\u001b[39m.\u001b[39mstatus \u001b[39m<\u001b[39m \u001b[39m299\u001b[39m\n\u001b[1;32m    301\u001b[0m     \u001b[39mand\u001b[39;00m (\n\u001b[0;32m   (...)\u001b[0m\n\u001b[1;32m    305\u001b[0m     )\n\u001b[1;32m    306\u001b[0m ):\n",
      "File \u001b[0;32m~/anaconda3/envs/workspace/lib/python3.8/site-packages/elastic_transport/_transport.py:329\u001b[0m, in \u001b[0;36mTransport.perform_request\u001b[0;34m(self, method, target, body, headers, max_retries, retry_on_status, retry_on_timeout, request_timeout, client_meta)\u001b[0m\n\u001b[1;32m    327\u001b[0m start_time \u001b[39m=\u001b[39m time\u001b[39m.\u001b[39mtime()\n\u001b[1;32m    328\u001b[0m \u001b[39mtry\u001b[39;00m:\n\u001b[0;32m--> 329\u001b[0m     meta, raw_data \u001b[39m=\u001b[39m node\u001b[39m.\u001b[39;49mperform_request(\n\u001b[1;32m    330\u001b[0m         method,\n\u001b[1;32m    331\u001b[0m         target,\n\u001b[1;32m    332\u001b[0m         body\u001b[39m=\u001b[39;49mrequest_body,\n\u001b[1;32m    333\u001b[0m         headers\u001b[39m=\u001b[39;49mrequest_headers,\n\u001b[1;32m    334\u001b[0m         request_timeout\u001b[39m=\u001b[39;49mrequest_timeout,\n\u001b[1;32m    335\u001b[0m     )\n\u001b[1;32m    336\u001b[0m     _logger\u001b[39m.\u001b[39minfo(\n\u001b[1;32m    337\u001b[0m         \u001b[39m\"\u001b[39m\u001b[39m%s\u001b[39;00m\u001b[39m \u001b[39m\u001b[39m%s\u001b[39;00m\u001b[39m%s\u001b[39;00m\u001b[39m [status:\u001b[39m\u001b[39m%s\u001b[39;00m\u001b[39m duration:\u001b[39m\u001b[39m%.3f\u001b[39;00m\u001b[39ms]\u001b[39m\u001b[39m\"\u001b[39m\n\u001b[1;32m    338\u001b[0m         \u001b[39m%\u001b[39m (\n\u001b[0;32m   (...)\u001b[0m\n\u001b[1;32m    344\u001b[0m         )\n\u001b[1;32m    345\u001b[0m     )\n\u001b[1;32m    347\u001b[0m     \u001b[39mif\u001b[39;00m method \u001b[39m!=\u001b[39m \u001b[39m\"\u001b[39m\u001b[39mHEAD\u001b[39m\u001b[39m\"\u001b[39m:\n",
      "File \u001b[0;32m~/anaconda3/envs/workspace/lib/python3.8/site-packages/elastic_transport/_node/_http_urllib3.py:164\u001b[0m, in \u001b[0;36mUrllib3HttpNode.perform_request\u001b[0;34m(self, method, target, body, headers, request_timeout)\u001b[0m\n\u001b[1;32m    161\u001b[0m \u001b[39melse\u001b[39;00m:\n\u001b[1;32m    162\u001b[0m     body_to_send \u001b[39m=\u001b[39m \u001b[39mNone\u001b[39;00m\n\u001b[0;32m--> 164\u001b[0m response \u001b[39m=\u001b[39m \u001b[39mself\u001b[39;49m\u001b[39m.\u001b[39;49mpool\u001b[39m.\u001b[39;49murlopen(  \u001b[39m# type: ignore[no-untyped-call]\u001b[39;49;00m\n\u001b[1;32m    165\u001b[0m     method,\n\u001b[1;32m    166\u001b[0m     target,\n\u001b[1;32m    167\u001b[0m     body\u001b[39m=\u001b[39;49mbody_to_send,\n\u001b[1;32m    168\u001b[0m     retries\u001b[39m=\u001b[39;49mRetry(\u001b[39mFalse\u001b[39;49;00m),\n\u001b[1;32m    169\u001b[0m     headers\u001b[39m=\u001b[39;49mrequest_headers,\n\u001b[1;32m    170\u001b[0m     \u001b[39m*\u001b[39;49m\u001b[39m*\u001b[39;49mkw,\n\u001b[1;32m    171\u001b[0m )\n\u001b[1;32m    172\u001b[0m response_headers \u001b[39m=\u001b[39m HttpHeaders(response\u001b[39m.\u001b[39mheaders)\n\u001b[1;32m    173\u001b[0m data \u001b[39m=\u001b[39m response\u001b[39m.\u001b[39mdata\n",
      "File \u001b[0;32m~/anaconda3/envs/workspace/lib/python3.8/site-packages/urllib3/connectionpool.py:714\u001b[0m, in \u001b[0;36mHTTPConnectionPool.urlopen\u001b[0;34m(self, method, url, body, headers, retries, redirect, assert_same_host, timeout, pool_timeout, release_conn, chunked, body_pos, **response_kw)\u001b[0m\n\u001b[1;32m    711\u001b[0m     \u001b[39mself\u001b[39m\u001b[39m.\u001b[39m_prepare_proxy(conn)\n\u001b[1;32m    713\u001b[0m \u001b[39m# Make the request on the httplib connection object.\u001b[39;00m\n\u001b[0;32m--> 714\u001b[0m httplib_response \u001b[39m=\u001b[39m \u001b[39mself\u001b[39;49m\u001b[39m.\u001b[39;49m_make_request(\n\u001b[1;32m    715\u001b[0m     conn,\n\u001b[1;32m    716\u001b[0m     method,\n\u001b[1;32m    717\u001b[0m     url,\n\u001b[1;32m    718\u001b[0m     timeout\u001b[39m=\u001b[39;49mtimeout_obj,\n\u001b[1;32m    719\u001b[0m     body\u001b[39m=\u001b[39;49mbody,\n\u001b[1;32m    720\u001b[0m     headers\u001b[39m=\u001b[39;49mheaders,\n\u001b[1;32m    721\u001b[0m     chunked\u001b[39m=\u001b[39;49mchunked,\n\u001b[1;32m    722\u001b[0m )\n\u001b[1;32m    724\u001b[0m \u001b[39m# If we're going to release the connection in ``finally:``, then\u001b[39;00m\n\u001b[1;32m    725\u001b[0m \u001b[39m# the response doesn't need to know about the connection. Otherwise\u001b[39;00m\n\u001b[1;32m    726\u001b[0m \u001b[39m# it will also try to release it and we'll have a double-release\u001b[39;00m\n\u001b[1;32m    727\u001b[0m \u001b[39m# mess.\u001b[39;00m\n\u001b[1;32m    728\u001b[0m response_conn \u001b[39m=\u001b[39m conn \u001b[39mif\u001b[39;00m \u001b[39mnot\u001b[39;00m release_conn \u001b[39melse\u001b[39;00m \u001b[39mNone\u001b[39;00m\n",
      "File \u001b[0;32m~/anaconda3/envs/workspace/lib/python3.8/site-packages/urllib3/connectionpool.py:466\u001b[0m, in \u001b[0;36mHTTPConnectionPool._make_request\u001b[0;34m(self, conn, method, url, timeout, chunked, **httplib_request_kw)\u001b[0m\n\u001b[1;32m    461\u001b[0m             httplib_response \u001b[39m=\u001b[39m conn\u001b[39m.\u001b[39mgetresponse()\n\u001b[1;32m    462\u001b[0m         \u001b[39mexcept\u001b[39;00m \u001b[39mBaseException\u001b[39;00m \u001b[39mas\u001b[39;00m e:\n\u001b[1;32m    463\u001b[0m             \u001b[39m# Remove the TypeError from the exception chain in\u001b[39;00m\n\u001b[1;32m    464\u001b[0m             \u001b[39m# Python 3 (including for exceptions like SystemExit).\u001b[39;00m\n\u001b[1;32m    465\u001b[0m             \u001b[39m# Otherwise it looks like a bug in the code.\u001b[39;00m\n\u001b[0;32m--> 466\u001b[0m             six\u001b[39m.\u001b[39;49mraise_from(e, \u001b[39mNone\u001b[39;49;00m)\n\u001b[1;32m    467\u001b[0m \u001b[39mexcept\u001b[39;00m (SocketTimeout, BaseSSLError, SocketError) \u001b[39mas\u001b[39;00m e:\n\u001b[1;32m    468\u001b[0m     \u001b[39mself\u001b[39m\u001b[39m.\u001b[39m_raise_timeout(err\u001b[39m=\u001b[39me, url\u001b[39m=\u001b[39murl, timeout_value\u001b[39m=\u001b[39mread_timeout)\n",
      "File \u001b[0;32m<string>:3\u001b[0m, in \u001b[0;36mraise_from\u001b[0;34m(value, from_value)\u001b[0m\n",
      "File \u001b[0;32m~/anaconda3/envs/workspace/lib/python3.8/site-packages/urllib3/connectionpool.py:461\u001b[0m, in \u001b[0;36mHTTPConnectionPool._make_request\u001b[0;34m(self, conn, method, url, timeout, chunked, **httplib_request_kw)\u001b[0m\n\u001b[1;32m    458\u001b[0m \u001b[39mexcept\u001b[39;00m \u001b[39mTypeError\u001b[39;00m:\n\u001b[1;32m    459\u001b[0m     \u001b[39m# Python 3\u001b[39;00m\n\u001b[1;32m    460\u001b[0m     \u001b[39mtry\u001b[39;00m:\n\u001b[0;32m--> 461\u001b[0m         httplib_response \u001b[39m=\u001b[39m conn\u001b[39m.\u001b[39;49mgetresponse()\n\u001b[1;32m    462\u001b[0m     \u001b[39mexcept\u001b[39;00m \u001b[39mBaseException\u001b[39;00m \u001b[39mas\u001b[39;00m e:\n\u001b[1;32m    463\u001b[0m         \u001b[39m# Remove the TypeError from the exception chain in\u001b[39;00m\n\u001b[1;32m    464\u001b[0m         \u001b[39m# Python 3 (including for exceptions like SystemExit).\u001b[39;00m\n\u001b[1;32m    465\u001b[0m         \u001b[39m# Otherwise it looks like a bug in the code.\u001b[39;00m\n\u001b[1;32m    466\u001b[0m         six\u001b[39m.\u001b[39mraise_from(e, \u001b[39mNone\u001b[39;00m)\n",
      "File \u001b[0;32m~/anaconda3/envs/workspace/lib/python3.8/http/client.py:1348\u001b[0m, in \u001b[0;36mHTTPConnection.getresponse\u001b[0;34m(self)\u001b[0m\n\u001b[1;32m   1346\u001b[0m \u001b[39mtry\u001b[39;00m:\n\u001b[1;32m   1347\u001b[0m     \u001b[39mtry\u001b[39;00m:\n\u001b[0;32m-> 1348\u001b[0m         response\u001b[39m.\u001b[39;49mbegin()\n\u001b[1;32m   1349\u001b[0m     \u001b[39mexcept\u001b[39;00m \u001b[39mConnectionError\u001b[39;00m:\n\u001b[1;32m   1350\u001b[0m         \u001b[39mself\u001b[39m\u001b[39m.\u001b[39mclose()\n",
      "File \u001b[0;32m~/anaconda3/envs/workspace/lib/python3.8/http/client.py:316\u001b[0m, in \u001b[0;36mHTTPResponse.begin\u001b[0;34m(self)\u001b[0m\n\u001b[1;32m    314\u001b[0m \u001b[39m# read until we get a non-100 response\u001b[39;00m\n\u001b[1;32m    315\u001b[0m \u001b[39mwhile\u001b[39;00m \u001b[39mTrue\u001b[39;00m:\n\u001b[0;32m--> 316\u001b[0m     version, status, reason \u001b[39m=\u001b[39m \u001b[39mself\u001b[39;49m\u001b[39m.\u001b[39;49m_read_status()\n\u001b[1;32m    317\u001b[0m     \u001b[39mif\u001b[39;00m status \u001b[39m!=\u001b[39m CONTINUE:\n\u001b[1;32m    318\u001b[0m         \u001b[39mbreak\u001b[39;00m\n",
      "File \u001b[0;32m~/anaconda3/envs/workspace/lib/python3.8/http/client.py:277\u001b[0m, in \u001b[0;36mHTTPResponse._read_status\u001b[0;34m(self)\u001b[0m\n\u001b[1;32m    276\u001b[0m \u001b[39mdef\u001b[39;00m \u001b[39m_read_status\u001b[39m(\u001b[39mself\u001b[39m):\n\u001b[0;32m--> 277\u001b[0m     line \u001b[39m=\u001b[39m \u001b[39mstr\u001b[39m(\u001b[39mself\u001b[39;49m\u001b[39m.\u001b[39;49mfp\u001b[39m.\u001b[39;49mreadline(_MAXLINE \u001b[39m+\u001b[39;49m \u001b[39m1\u001b[39;49m), \u001b[39m\"\u001b[39m\u001b[39miso-8859-1\u001b[39m\u001b[39m\"\u001b[39m)\n\u001b[1;32m    278\u001b[0m     \u001b[39mif\u001b[39;00m \u001b[39mlen\u001b[39m(line) \u001b[39m>\u001b[39m _MAXLINE:\n\u001b[1;32m    279\u001b[0m         \u001b[39mraise\u001b[39;00m LineTooLong(\u001b[39m\"\u001b[39m\u001b[39mstatus line\u001b[39m\u001b[39m\"\u001b[39m)\n",
      "File \u001b[0;32m~/anaconda3/envs/workspace/lib/python3.8/socket.py:669\u001b[0m, in \u001b[0;36mSocketIO.readinto\u001b[0;34m(self, b)\u001b[0m\n\u001b[1;32m    667\u001b[0m \u001b[39mwhile\u001b[39;00m \u001b[39mTrue\u001b[39;00m:\n\u001b[1;32m    668\u001b[0m     \u001b[39mtry\u001b[39;00m:\n\u001b[0;32m--> 669\u001b[0m         \u001b[39mreturn\u001b[39;00m \u001b[39mself\u001b[39;49m\u001b[39m.\u001b[39;49m_sock\u001b[39m.\u001b[39;49mrecv_into(b)\n\u001b[1;32m    670\u001b[0m     \u001b[39mexcept\u001b[39;00m timeout:\n\u001b[1;32m    671\u001b[0m         \u001b[39mself\u001b[39m\u001b[39m.\u001b[39m_timeout_occurred \u001b[39m=\u001b[39m \u001b[39mTrue\u001b[39;00m\n",
      "\u001b[0;31mKeyboardInterrupt\u001b[0m: "
     ]
    }
   ],
   "source": [
    "import sys \n",
    "\n",
    "# 연결 테스트----------------------------------------\n",
    "response = es.ping()\n",
    "#ping(): Elasticsearch 클라이언트를 사용하여 Elasticsearch 서버의 핑을 검사\n",
    "if response:\n",
    "    print('Connection successful')\n",
    "else:\n",
    "    sys.exit(\"Connection failed\")   \n",
    "    \n",
    "#------------------------------------------------\n"
   ]
  },
  {
   "cell_type": "code",
   "execution_count": 6,
   "metadata": {},
   "outputs": [
    {
     "name": "stderr",
     "output_type": "stream",
     "text": [
      "/tmp/ipykernel_163291/4004545996.py:13: DeprecationWarning: The 'body' parameter is deprecated and will be removed in a future version. Instead use the 'document' parameter. See https://github.com/elastic/elasticsearch-py/issues/1698 for more information\n",
      "  response = es.index(index=index_name, body=data)\n"
     ]
    },
    {
     "ename": "ConnectionError",
     "evalue": "Connection error caused by: ConnectionError(Connection error caused by: ProtocolError(('Connection aborted.', timeout('timed out'))))",
     "output_type": "error",
     "traceback": [
      "\u001b[0;31m---------------------------------------------------------------------------\u001b[0m",
      "\u001b[0;31mConnectionError\u001b[0m                           Traceback (most recent call last)",
      "\u001b[1;32m/home/dahye/workspace/1_elastic_prj/upload.ipynb 셀 4\u001b[0m line \u001b[0;36m1\n\u001b[1;32m     <a href='vscode-notebook-cell://wsl%2Bubuntu/home/dahye/workspace/1_elastic_prj/upload.ipynb#W1sdnNjb2RlLXJlbW90ZQ%3D%3D?line=9'>10</a>\u001b[0m doc_type \u001b[39m=\u001b[39m \u001b[39m'\u001b[39m\u001b[39m_doc\u001b[39m\u001b[39m'\u001b[39m \u001b[39m# Elastic 문서 유형\u001b[39;00m\n\u001b[1;32m     <a href='vscode-notebook-cell://wsl%2Bubuntu/home/dahye/workspace/1_elastic_prj/upload.ipynb#W1sdnNjb2RlLXJlbW90ZQ%3D%3D?line=10'>11</a>\u001b[0m doc_id \u001b[39m=\u001b[39m \u001b[39mNone\u001b[39;00m\n\u001b[0;32m---> <a href='vscode-notebook-cell://wsl%2Bubuntu/home/dahye/workspace/1_elastic_prj/upload.ipynb#W1sdnNjb2RlLXJlbW90ZQ%3D%3D?line=12'>13</a>\u001b[0m response \u001b[39m=\u001b[39m es\u001b[39m.\u001b[39;49mindex(index\u001b[39m=\u001b[39;49mindex_name, body\u001b[39m=\u001b[39;49mdata)\n",
      "File \u001b[0;32m~/anaconda3/envs/workspace/lib/python3.8/site-packages/elasticsearch/_sync/client/utils.py:414\u001b[0m, in \u001b[0;36m_rewrite_parameters.<locals>.wrapper.<locals>.wrapped\u001b[0;34m(*args, **kwargs)\u001b[0m\n\u001b[1;32m    411\u001b[0m         \u001b[39mexcept\u001b[39;00m \u001b[39mKeyError\u001b[39;00m:\n\u001b[1;32m    412\u001b[0m             \u001b[39mpass\u001b[39;00m\n\u001b[0;32m--> 414\u001b[0m \u001b[39mreturn\u001b[39;00m api(\u001b[39m*\u001b[39;49margs, \u001b[39m*\u001b[39;49m\u001b[39m*\u001b[39;49mkwargs)\n",
      "File \u001b[0;32m~/anaconda3/envs/workspace/lib/python3.8/site-packages/elasticsearch/_sync/client/__init__.py:2318\u001b[0m, in \u001b[0;36mElasticsearch.index\u001b[0;34m(self, index, document, id, error_trace, filter_path, human, if_primary_term, if_seq_no, op_type, pipeline, pretty, refresh, require_alias, routing, timeout, version, version_type, wait_for_active_shards)\u001b[0m\n\u001b[1;32m   2316\u001b[0m __body \u001b[39m=\u001b[39m document\n\u001b[1;32m   2317\u001b[0m __headers \u001b[39m=\u001b[39m {\u001b[39m\"\u001b[39m\u001b[39maccept\u001b[39m\u001b[39m\"\u001b[39m: \u001b[39m\"\u001b[39m\u001b[39mapplication/json\u001b[39m\u001b[39m\"\u001b[39m, \u001b[39m\"\u001b[39m\u001b[39mcontent-type\u001b[39m\u001b[39m\"\u001b[39m: \u001b[39m\"\u001b[39m\u001b[39mapplication/json\u001b[39m\u001b[39m\"\u001b[39m}\n\u001b[0;32m-> 2318\u001b[0m \u001b[39mreturn\u001b[39;00m \u001b[39mself\u001b[39;49m\u001b[39m.\u001b[39;49mperform_request(  \u001b[39m# type: ignore[return-value]\u001b[39;49;00m\n\u001b[1;32m   2319\u001b[0m     __method, __path, params\u001b[39m=\u001b[39;49m__query, headers\u001b[39m=\u001b[39;49m__headers, body\u001b[39m=\u001b[39;49m__body\n\u001b[1;32m   2320\u001b[0m )\n",
      "File \u001b[0;32m~/anaconda3/envs/workspace/lib/python3.8/site-packages/elasticsearch/_sync/client/_base.py:285\u001b[0m, in \u001b[0;36mBaseClient.perform_request\u001b[0;34m(self, method, path, params, headers, body)\u001b[0m\n\u001b[1;32m    282\u001b[0m \u001b[39melse\u001b[39;00m:\n\u001b[1;32m    283\u001b[0m     target \u001b[39m=\u001b[39m path\n\u001b[0;32m--> 285\u001b[0m meta, resp_body \u001b[39m=\u001b[39m \u001b[39mself\u001b[39;49m\u001b[39m.\u001b[39;49mtransport\u001b[39m.\u001b[39;49mperform_request(\n\u001b[1;32m    286\u001b[0m     method,\n\u001b[1;32m    287\u001b[0m     target,\n\u001b[1;32m    288\u001b[0m     headers\u001b[39m=\u001b[39;49mrequest_headers,\n\u001b[1;32m    289\u001b[0m     body\u001b[39m=\u001b[39;49mbody,\n\u001b[1;32m    290\u001b[0m     request_timeout\u001b[39m=\u001b[39;49m\u001b[39mself\u001b[39;49m\u001b[39m.\u001b[39;49m_request_timeout,\n\u001b[1;32m    291\u001b[0m     max_retries\u001b[39m=\u001b[39;49m\u001b[39mself\u001b[39;49m\u001b[39m.\u001b[39;49m_max_retries,\n\u001b[1;32m    292\u001b[0m     retry_on_status\u001b[39m=\u001b[39;49m\u001b[39mself\u001b[39;49m\u001b[39m.\u001b[39;49m_retry_on_status,\n\u001b[1;32m    293\u001b[0m     retry_on_timeout\u001b[39m=\u001b[39;49m\u001b[39mself\u001b[39;49m\u001b[39m.\u001b[39;49m_retry_on_timeout,\n\u001b[1;32m    294\u001b[0m     client_meta\u001b[39m=\u001b[39;49m\u001b[39mself\u001b[39;49m\u001b[39m.\u001b[39;49m_client_meta,\n\u001b[1;32m    295\u001b[0m )\n\u001b[1;32m    297\u001b[0m \u001b[39m# HEAD with a 404 is returned as a normal response\u001b[39;00m\n\u001b[1;32m    298\u001b[0m \u001b[39m# since this is used as an 'exists' functionality.\u001b[39;00m\n\u001b[1;32m    299\u001b[0m \u001b[39mif\u001b[39;00m \u001b[39mnot\u001b[39;00m (method \u001b[39m==\u001b[39m \u001b[39m\"\u001b[39m\u001b[39mHEAD\u001b[39m\u001b[39m\"\u001b[39m \u001b[39mand\u001b[39;00m meta\u001b[39m.\u001b[39mstatus \u001b[39m==\u001b[39m \u001b[39m404\u001b[39m) \u001b[39mand\u001b[39;00m (\n\u001b[1;32m    300\u001b[0m     \u001b[39mnot\u001b[39;00m \u001b[39m200\u001b[39m \u001b[39m<\u001b[39m\u001b[39m=\u001b[39m meta\u001b[39m.\u001b[39mstatus \u001b[39m<\u001b[39m \u001b[39m299\u001b[39m\n\u001b[1;32m    301\u001b[0m     \u001b[39mand\u001b[39;00m (\n\u001b[0;32m   (...)\u001b[0m\n\u001b[1;32m    305\u001b[0m     )\n\u001b[1;32m    306\u001b[0m ):\n",
      "File \u001b[0;32m~/anaconda3/envs/workspace/lib/python3.8/site-packages/elastic_transport/_transport.py:329\u001b[0m, in \u001b[0;36mTransport.perform_request\u001b[0;34m(self, method, target, body, headers, max_retries, retry_on_status, retry_on_timeout, request_timeout, client_meta)\u001b[0m\n\u001b[1;32m    327\u001b[0m start_time \u001b[39m=\u001b[39m time\u001b[39m.\u001b[39mtime()\n\u001b[1;32m    328\u001b[0m \u001b[39mtry\u001b[39;00m:\n\u001b[0;32m--> 329\u001b[0m     meta, raw_data \u001b[39m=\u001b[39m node\u001b[39m.\u001b[39;49mperform_request(\n\u001b[1;32m    330\u001b[0m         method,\n\u001b[1;32m    331\u001b[0m         target,\n\u001b[1;32m    332\u001b[0m         body\u001b[39m=\u001b[39;49mrequest_body,\n\u001b[1;32m    333\u001b[0m         headers\u001b[39m=\u001b[39;49mrequest_headers,\n\u001b[1;32m    334\u001b[0m         request_timeout\u001b[39m=\u001b[39;49mrequest_timeout,\n\u001b[1;32m    335\u001b[0m     )\n\u001b[1;32m    336\u001b[0m     _logger\u001b[39m.\u001b[39minfo(\n\u001b[1;32m    337\u001b[0m         \u001b[39m\"\u001b[39m\u001b[39m%s\u001b[39;00m\u001b[39m \u001b[39m\u001b[39m%s\u001b[39;00m\u001b[39m%s\u001b[39;00m\u001b[39m [status:\u001b[39m\u001b[39m%s\u001b[39;00m\u001b[39m duration:\u001b[39m\u001b[39m%.3f\u001b[39;00m\u001b[39ms]\u001b[39m\u001b[39m\"\u001b[39m\n\u001b[1;32m    338\u001b[0m         \u001b[39m%\u001b[39m (\n\u001b[0;32m   (...)\u001b[0m\n\u001b[1;32m    344\u001b[0m         )\n\u001b[1;32m    345\u001b[0m     )\n\u001b[1;32m    347\u001b[0m     \u001b[39mif\u001b[39;00m method \u001b[39m!=\u001b[39m \u001b[39m\"\u001b[39m\u001b[39mHEAD\u001b[39m\u001b[39m\"\u001b[39m:\n",
      "File \u001b[0;32m~/anaconda3/envs/workspace/lib/python3.8/site-packages/elastic_transport/_node/_http_urllib3.py:199\u001b[0m, in \u001b[0;36mUrllib3HttpNode.perform_request\u001b[0;34m(self, method, target, body, headers, request_timeout)\u001b[0m\n\u001b[1;32m    191\u001b[0m         err \u001b[39m=\u001b[39m \u001b[39mConnectionError\u001b[39;00m(\u001b[39mstr\u001b[39m(e), errors\u001b[39m=\u001b[39m(e,))\n\u001b[1;32m    192\u001b[0m     \u001b[39mself\u001b[39m\u001b[39m.\u001b[39m_log_request(\n\u001b[1;32m    193\u001b[0m         method\u001b[39m=\u001b[39mmethod,\n\u001b[1;32m    194\u001b[0m         target\u001b[39m=\u001b[39mtarget,\n\u001b[0;32m   (...)\u001b[0m\n\u001b[1;32m    197\u001b[0m         exception\u001b[39m=\u001b[39merr,\n\u001b[1;32m    198\u001b[0m     )\n\u001b[0;32m--> 199\u001b[0m     \u001b[39mraise\u001b[39;00m err \u001b[39mfrom\u001b[39;00m \u001b[39mNone\u001b[39;00m\n\u001b[1;32m    201\u001b[0m meta \u001b[39m=\u001b[39m ApiResponseMeta(\n\u001b[1;32m    202\u001b[0m     node\u001b[39m=\u001b[39m\u001b[39mself\u001b[39m\u001b[39m.\u001b[39mconfig,\n\u001b[1;32m    203\u001b[0m     duration\u001b[39m=\u001b[39mduration,\n\u001b[0;32m   (...)\u001b[0m\n\u001b[1;32m    206\u001b[0m     headers\u001b[39m=\u001b[39mresponse_headers,\n\u001b[1;32m    207\u001b[0m )\n\u001b[1;32m    208\u001b[0m \u001b[39mself\u001b[39m\u001b[39m.\u001b[39m_log_request(\n\u001b[1;32m    209\u001b[0m     method\u001b[39m=\u001b[39mmethod,\n\u001b[1;32m    210\u001b[0m     target\u001b[39m=\u001b[39mtarget,\n\u001b[0;32m   (...)\u001b[0m\n\u001b[1;32m    214\u001b[0m     response\u001b[39m=\u001b[39mdata,\n\u001b[1;32m    215\u001b[0m )\n",
      "\u001b[0;31mConnectionError\u001b[0m: Connection error caused by: ConnectionError(Connection error caused by: ProtocolError(('Connection aborted.', timeout('timed out'))))"
     ]
    }
   ],
   "source": [
    "import json\n",
    "\n",
    "json_file_path = 'dummy_data.json'\n",
    "\n",
    "with open(json_file_path, 'r') as json_file:\n",
    "    data = json.load(json_file)\n",
    "\n",
    "# Elasticsearch에 데이터 색인화\n",
    "index_name = 'dummy_data_test'\n",
    "doc_type = '_doc' # Elastic 문서 유형\n",
    "doc_id = None\n",
    "\n",
    "response = es.index(index=index_name, body=data)"
   ]
  }
 ],
 "metadata": {
  "kernelspec": {
   "display_name": "workspace",
   "language": "python",
   "name": "workspace"
  },
  "language_info": {
   "codemirror_mode": {
    "name": "ipython",
    "version": 3
   },
   "file_extension": ".py",
   "mimetype": "text/x-python",
   "name": "python",
   "nbconvert_exporter": "python",
   "pygments_lexer": "ipython3",
   "version": "3.8.18"
  },
  "orig_nbformat": 4
 },
 "nbformat": 4,
 "nbformat_minor": 2
}
